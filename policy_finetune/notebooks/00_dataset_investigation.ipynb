{
 "cells": [
  {
   "cell_type": "code",
   "execution_count": 1,
   "metadata": {},
   "outputs": [
    {
     "name": "stderr",
     "output_type": "stream",
     "text": [
      "/home/lucas/Workspace/CORL/corl_env/lib/python3.10/site-packages/tqdm/auto.py:21: TqdmWarning: IProgress not found. Please update jupyter and ipywidgets. See https://ipywidgets.readthedocs.io/en/stable/user_install.html\n",
      "  from .autonotebook import tqdm as notebook_tqdm\n"
     ]
    }
   ],
   "source": [
    "import numpy as np\n",
    "import minari\n",
    "import gymnasium as gym"
   ]
  },
  {
   "cell_type": "markdown",
   "metadata": {},
   "source": [
    "## Investigate Remote Dataset ##"
   ]
  },
  {
   "cell_type": "markdown",
   "metadata": {},
   "source": [
    "First, load a dataset."
   ]
  },
  {
   "cell_type": "code",
   "execution_count": 2,
   "metadata": {},
   "outputs": [],
   "source": [
    "dataset_door = minari.load_dataset('door-human-v2')"
   ]
  },
  {
   "cell_type": "markdown",
   "metadata": {},
   "source": [
    "Check different Attributes."
   ]
  },
  {
   "cell_type": "code",
   "execution_count": 3,
   "metadata": {},
   "outputs": [
    {
     "name": "stdout",
     "output_type": "stream",
     "text": [
      "Dataset id:  door-human-v2\n",
      "Total Steps:  6729\n",
      "Total Episodes:  25\n",
      "Indices of available episodes:  [ 0  1  2  3  4  5  6  7  8  9 10 11 12 13 14 15 16 17 18 19 20 21 22 23\n",
      " 24]\n"
     ]
    }
   ],
   "source": [
    "print(\"Dataset id: \", dataset_door._dataset_id)\n",
    "print(\"Total Steps: \", dataset_door.total_steps)\n",
    "print(\"Total Episodes: \", dataset_door.total_episodes)\n",
    "print(\"Indices of available episodes: \", dataset_door.episode_indices)"
   ]
  },
  {
   "cell_type": "markdown",
   "metadata": {},
   "source": [
    "Sample one episode."
   ]
  },
  {
   "cell_type": "code",
   "execution_count": 4,
   "metadata": {},
   "outputs": [],
   "source": [
    "episode_data = dataset_door.sample_episodes(1)[0]"
   ]
  },
  {
   "cell_type": "markdown",
   "metadata": {},
   "source": [
    "### Investigate EpisodeData ###"
   ]
  },
  {
   "cell_type": "code",
   "execution_count": 5,
   "metadata": {},
   "outputs": [
    {
     "data": {
      "text/plain": [
       "(266, 39)"
      ]
     },
     "execution_count": 5,
     "metadata": {},
     "output_type": "execute_result"
    }
   ],
   "source": [
    "episode_data.observations.shape"
   ]
  },
  {
   "cell_type": "code",
   "execution_count": 6,
   "metadata": {},
   "outputs": [
    {
     "data": {
      "text/plain": [
       "array([False, False, False, False, False, False, False, False, False,\n",
       "       False, False, False, False, False, False, False, False, False,\n",
       "       False, False, False, False, False, False, False, False, False,\n",
       "       False, False, False, False, False, False, False, False, False,\n",
       "       False, False, False, False, False, False, False, False, False,\n",
       "       False, False, False, False, False, False, False, False, False,\n",
       "       False, False, False, False, False, False, False, False, False,\n",
       "       False, False, False, False, False, False, False, False, False,\n",
       "       False, False, False, False, False, False, False, False, False,\n",
       "       False, False, False, False, False, False, False, False, False,\n",
       "       False, False, False, False, False, False, False, False, False,\n",
       "       False, False, False, False, False, False, False, False, False,\n",
       "       False, False, False, False, False, False, False, False, False,\n",
       "       False, False, False, False, False, False, False, False, False,\n",
       "       False, False, False, False, False, False, False, False, False,\n",
       "       False, False, False, False, False, False, False, False, False,\n",
       "       False, False, False, False, False, False, False, False, False,\n",
       "       False, False, False, False, False, False, False, False, False,\n",
       "       False, False, False, False, False, False, False, False, False,\n",
       "       False, False, False, False, False, False, False, False, False,\n",
       "       False, False, False, False, False, False, False, False, False,\n",
       "       False, False, False, False, False, False, False, False, False,\n",
       "       False, False, False, False, False, False, False, False, False,\n",
       "       False, False, False, False, False, False, False, False, False,\n",
       "       False, False, False, False, False, False, False, False, False,\n",
       "       False, False, False, False, False, False, False, False, False,\n",
       "       False, False, False, False, False, False, False, False, False,\n",
       "       False, False, False, False, False, False, False, False, False,\n",
       "       False, False, False, False, False, False, False, False, False,\n",
       "       False, False, False, False])"
      ]
     },
     "execution_count": 6,
     "metadata": {},
     "output_type": "execute_result"
    }
   ],
   "source": [
    "episode_data.terminations"
   ]
  },
  {
   "cell_type": "code",
   "execution_count": 7,
   "metadata": {},
   "outputs": [
    {
     "data": {
      "text/plain": [
       "array([False, False, False, False, False, False, False, False, False,\n",
       "       False, False, False, False, False, False, False, False, False,\n",
       "       False, False, False, False, False, False, False, False, False,\n",
       "       False, False, False, False, False, False, False, False, False,\n",
       "       False, False, False, False, False, False, False, False, False,\n",
       "       False, False, False, False, False, False, False, False, False,\n",
       "       False, False, False, False, False, False, False, False, False,\n",
       "       False, False, False, False, False, False, False, False, False,\n",
       "       False, False, False, False, False, False, False, False, False,\n",
       "       False, False, False, False, False, False, False, False, False,\n",
       "       False, False, False, False, False, False, False, False, False,\n",
       "       False, False, False, False, False, False, False, False, False,\n",
       "       False, False, False, False, False, False, False, False, False,\n",
       "       False, False, False, False, False, False, False, False, False,\n",
       "       False, False, False, False, False, False, False, False, False,\n",
       "       False, False, False, False, False, False, False, False, False,\n",
       "       False, False, False, False, False, False, False, False, False,\n",
       "       False, False, False, False, False, False, False, False, False,\n",
       "       False, False, False, False, False, False, False, False, False,\n",
       "       False, False, False, False, False, False, False, False, False,\n",
       "       False, False, False, False, False, False, False, False, False,\n",
       "       False, False, False, False, False, False, False, False, False,\n",
       "       False, False, False, False, False, False, False, False, False,\n",
       "       False, False, False, False, False, False, False, False, False,\n",
       "       False, False, False, False, False, False, False, False, False,\n",
       "       False, False, False, False, False, False, False, False, False,\n",
       "       False, False, False, False, False, False, False, False, False,\n",
       "       False, False, False, False, False, False, False, False, False,\n",
       "       False, False, False, False, False, False, False, False, False,\n",
       "       False, False, False,  True])"
      ]
     },
     "execution_count": 7,
     "metadata": {},
     "output_type": "execute_result"
    }
   ],
   "source": [
    "episode_data.truncations"
   ]
  },
  {
   "cell_type": "code",
   "execution_count": 8,
   "metadata": {},
   "outputs": [
    {
     "data": {
      "text/plain": [
       "265"
      ]
     },
     "execution_count": 8,
     "metadata": {},
     "output_type": "execute_result"
    }
   ],
   "source": [
    "episode_data.total_timesteps"
   ]
  },
  {
   "cell_type": "markdown",
   "metadata": {},
   "source": [
    "## Investigate how to create dataset from offline buffers ##"
   ]
  },
  {
   "cell_type": "markdown",
   "metadata": {},
   "source": [
    "A $\\bf{buffer}$ is essentially a list of episode data. Each episode data should be a dictionary. For example, episode_data['action'] should be the array of actions taken during the episode."
   ]
  },
  {
   "cell_type": "markdown",
   "metadata": {},
   "source": [
    "Let's make up some data. Suppose we have 3 episodes. First episode has 10 time steps, second has 20, third has 30. Suppose we have 3-dim observation, 2-dim action."
   ]
  },
  {
   "cell_type": "code",
   "execution_count": 9,
   "metadata": {},
   "outputs": [],
   "source": [
    "ep1_observations = np.random.rand(10 + 1, 3)\n",
    "ep2_observations = np.random.rand(20 + 1, 3)\n",
    "ep3_observations = np.random.rand(30 + 1, 3)\n",
    "\n",
    "ep1_actions= np.random.rand(10, 2)\n",
    "ep2_actions = np.random.rand(20, 2)\n",
    "ep3_actions = np.random.rand(30, 2)\n",
    "\n",
    "\n",
    "ep1_rewrads = np.random.rand(10, 1)\n",
    "ep2_rewrads = np.random.rand(20, 1)\n",
    "ep3_rewrads = np.random.rand(30, 1)\n",
    "\n",
    "ep1_terminations = np.asarray([False for _ in range(10)])\n",
    "ep2_terminations = np.asarray([False for _ in range(20)])\n",
    "ep3_terminations = np.asarray([False for _ in range(30)])\n",
    "\n",
    "\n",
    "ep1_truncations= np.asarray([False for _ in range(10 + 1)])\n",
    "ep1_truncations[-1] = True\n",
    "ep2_truncations = np.asarray([False for _ in range(20 + 1)])\n",
    "ep2_truncations[-1] = True\n",
    "ep3_truncations = np.asarray([False for _ in range(30 + 1)])\n",
    "ep3_truncations[-1] = True"
   ]
  },
  {
   "cell_type": "code",
   "execution_count": 10,
   "metadata": {},
   "outputs": [],
   "source": [
    "ep1 = {'observations': ep1_observations, 'actions': ep1_actions, 'rewards': ep1_rewrads, 'terminations': ep1_terminations, 'truncations': ep1_truncations}\n",
    "ep2 = {'observations': ep2_observations, 'actions': ep2_actions, 'rewards': ep2_rewrads, 'terminations': ep2_terminations, 'truncations': ep2_truncations}\n",
    "ep3 = {'observations': ep3_observations, 'actions': ep3_actions, 'rewards': ep3_rewrads, 'terminations': ep3_terminations, 'truncations': ep3_truncations}"
   ]
  },
  {
   "cell_type": "code",
   "execution_count": 11,
   "metadata": {},
   "outputs": [
    {
     "name": "stderr",
     "output_type": "stream",
     "text": [
      "/home/lucas/Workspace/CORL/corl_env/lib/python3.10/site-packages/minari/utils.py:358: UserWarning: `code_permalink` is set to None. For reproducibility purposes it is highly recommended to link your dataset to versioned code.\n",
      "  warnings.warn(\n",
      "/home/lucas/Workspace/CORL/corl_env/lib/python3.10/site-packages/minari/utils.py:366: UserWarning: `author` is set to None. For longevity purposes it is highly recommended to provide an author name.\n",
      "  warnings.warn(\n",
      "/home/lucas/Workspace/CORL/corl_env/lib/python3.10/site-packages/minari/utils.py:374: UserWarning: `author_email` is set to None. For longevity purposes it is highly recommended to provide an author email, or some other obvious contact information.\n",
      "  warnings.warn(\n",
      "/home/lucas/Workspace/CORL/corl_env/lib/python3.10/site-packages/minari/utils.py:382: UserWarning: `algorithm_name` is set to None. For reproducibility purpose it's highly recommended to set your algorithm\n",
      "  warnings.warn(\n",
      "/home/lucas/Workspace/CORL/corl_env/lib/python3.10/site-packages/minari/utils.py:394: UserWarning: `minari_version` is set to None. The compatible dataset version specifier for Minari will be set to ~=0.4.\n",
      "  warnings.warn(\n",
      "/home/lucas/Workspace/CORL/corl_env/lib/python3.10/site-packages/minari/utils.py:414: UserWarning: `eval_env` is set to None. If another environment is intended to be used for evaluation please specify corresponding Gymnasium environment (gym.Env | gym.envs.registration.EnvSpec).              If None the environment used to collect the data (`env=None`) will be used for this purpose.\n",
      "  warnings.warn(\n",
      "/home/lucas/Workspace/CORL/corl_env/lib/python3.10/site-packages/minari/utils.py:435: UserWarning: env_spec is None, no environment spec is provided during collection for this dataset\n",
      "  warnings.warn(\n"
     ]
    }
   ],
   "source": [
    "dataset =  minari.create_dataset_from_buffers(\"random-dataset-v0\", buffer=[ep1, ep2, ep3], \n",
    "                                              action_space=gym.spaces.Box(low=0.0, high=1.0, shape=(2, 1)), \n",
    "                                              observation_space=gym.spaces.Box(low=0.0, high=1.0, shape=(3, 1))\n",
    "                                              )"
   ]
  },
  {
   "cell_type": "code",
   "execution_count": 13,
   "metadata": {},
   "outputs": [
    {
     "name": "stdout",
     "output_type": "stream",
     "text": [
      "Dataset id:  random-dataset-v0\n",
      "Total Steps:  60\n",
      "Total Episodes:  3\n",
      "Indices of available episodes:  [0 1 2]\n"
     ]
    }
   ],
   "source": [
    "print(\"Dataset id: \", dataset._dataset_id)\n",
    "print(\"Total Steps: \", dataset.total_steps)\n",
    "print(\"Total Episodes: \", dataset.total_episodes)\n",
    "print(\"Indices of available episodes: \", dataset.episode_indices)"
   ]
  },
  {
   "cell_type": "code",
   "execution_count": 17,
   "metadata": {},
   "outputs": [],
   "source": [
    "rand_episode = dataset.sample_episodes(1)[0]"
   ]
  },
  {
   "cell_type": "code",
   "execution_count": 19,
   "metadata": {},
   "outputs": [
    {
     "data": {
      "text/plain": [
       "(11, 3)"
      ]
     },
     "execution_count": 19,
     "metadata": {},
     "output_type": "execute_result"
    }
   ],
   "source": [
    "rand_episode.observations.shape"
   ]
  },
  {
   "cell_type": "code",
   "execution_count": 20,
   "metadata": {},
   "outputs": [
    {
     "data": {
      "text/plain": [
       "array([False, False, False, False, False, False, False, False, False,\n",
       "       False])"
      ]
     },
     "execution_count": 20,
     "metadata": {},
     "output_type": "execute_result"
    }
   ],
   "source": [
    "rand_episode.terminations"
   ]
  },
  {
   "cell_type": "code",
   "execution_count": 21,
   "metadata": {},
   "outputs": [
    {
     "data": {
      "text/plain": [
       "array([False, False, False, False, False, False, False, False, False,\n",
       "       False,  True])"
      ]
     },
     "execution_count": 21,
     "metadata": {},
     "output_type": "execute_result"
    }
   ],
   "source": [
    "rand_episode.truncations"
   ]
  },
  {
   "cell_type": "code",
   "execution_count": 22,
   "metadata": {},
   "outputs": [
    {
     "data": {
      "text/plain": [
       "10"
      ]
     },
     "execution_count": 22,
     "metadata": {},
     "output_type": "execute_result"
    }
   ],
   "source": [
    "rand_episode.total_timesteps"
   ]
  }
 ],
 "metadata": {
  "kernelspec": {
   "display_name": "corl_env",
   "language": "python",
   "name": "python3"
  },
  "language_info": {
   "codemirror_mode": {
    "name": "ipython",
    "version": 3
   },
   "file_extension": ".py",
   "mimetype": "text/x-python",
   "name": "python",
   "nbconvert_exporter": "python",
   "pygments_lexer": "ipython3",
   "version": "3.10.12"
  }
 },
 "nbformat": 4,
 "nbformat_minor": 2
}
