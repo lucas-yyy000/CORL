{
 "cells": [
  {
   "cell_type": "code",
   "execution_count": 1,
   "metadata": {},
   "outputs": [],
   "source": [
    "import numpy as np\n",
    "import gymnasium as gym\n",
    "import pickle "
   ]
  },
  {
   "cell_type": "code",
   "execution_count": 2,
   "metadata": {},
   "outputs": [],
   "source": [
    "processed_data_path = \"/home/lucas/Workspace/CORL/offline_data/\""
   ]
  },
  {
   "cell_type": "code",
   "execution_count": 3,
   "metadata": {},
   "outputs": [],
   "source": [
    "with open(processed_data_path + 'data_0.pkl', 'rb') as f:\n",
    "    loaded_dict = pickle.load(f)"
   ]
  },
  {
   "cell_type": "code",
   "execution_count": 4,
   "metadata": {},
   "outputs": [
    {
     "data": {
      "text/plain": [
       "{'observation': {'heat_map': array([[[3.9589307e-01, 4.1539091e-01, 4.3604037e-01, ...,\n",
       "           1.6862432e-04, 1.3359751e-04, 1.0552586e-04],\n",
       "          [4.7599554e-01, 4.9921754e-01, 5.2382797e-01, ...,\n",
       "           2.0277147e-04, 1.6069223e-04, 1.2696168e-04],\n",
       "          [5.7051587e-01, 5.9808099e-01, 6.2731475e-01, ...,\n",
       "           2.4314850e-04, 1.9274394e-04, 1.5233082e-04],\n",
       "          ...,\n",
       "          [2.3615407e+02, 2.3733629e+02, 2.3848683e+02, ...,\n",
       "           3.1470613e+00, 2.6740294e+00, 2.2648826e+00],\n",
       "          [2.3417984e+02, 2.3543967e+02, 2.3665987e+02, ...,\n",
       "           3.1839991e+00, 2.7058525e+00, 2.2922065e+00],\n",
       "          [2.3201385e+02, 2.3336104e+02, 2.3466078e+02, ...,\n",
       "           3.2196636e+00, 2.7366161e+00, 2.3186522e+00]]], dtype=float32),\n",
       "  'goal_direction': array([ 198.77167831, -193.17441263]),\n",
       "  'time_spent': 0},\n",
       " 'next_observation': {'heat_map': array([[[9.1615105e+00, 8.7874346e+00, 8.4560413e+00, ...,\n",
       "           2.6896191e-04, 2.0856444e-04, 1.6121336e-04],\n",
       "          [1.0289279e+01, 9.8863258e+00, 9.5304031e+00, ...,\n",
       "           3.1023589e-04, 2.4057252e-04, 1.8595654e-04],\n",
       "          [1.1525731e+01, 1.1093729e+01, 1.0713382e+01, ...,\n",
       "           3.5671744e-04, 2.7661995e-04, 2.1382290e-04],\n",
       "          ...,\n",
       "          [2.2095511e+02, 2.2108485e+02, 2.2127246e+02, ...,\n",
       "           4.7066588e-02, 3.7494965e-02, 2.9776154e-02],\n",
       "          [2.1962959e+02, 2.1981320e+02, 2.2005423e+02, ...,\n",
       "           4.5304168e-02, 3.6084950e-02, 2.8651789e-02],\n",
       "          [2.1828006e+02, 2.1852452e+02, 2.1882529e+02, ...,\n",
       "           4.3492958e-02, 3.4635946e-02, 2.7496368e-02]]], dtype=float32),\n",
       "  'goal_direction': array([ 183.77167831, -193.17441263]),\n",
       "  'time_spent': 1},\n",
       " 'action': -23.036403084539266,\n",
       " 'reward': -0.0,\n",
       " 'termination': False}"
      ]
     },
     "execution_count": 4,
     "metadata": {},
     "output_type": "execute_result"
    }
   ],
   "source": [
    "loaded_dict"
   ]
  }
 ],
 "metadata": {
  "kernelspec": {
   "display_name": "corl_env",
   "language": "python",
   "name": "python3"
  },
  "language_info": {
   "codemirror_mode": {
    "name": "ipython",
    "version": 3
   },
   "file_extension": ".py",
   "mimetype": "text/x-python",
   "name": "python",
   "nbconvert_exporter": "python",
   "pygments_lexer": "ipython3",
   "version": "3.10.12"
  }
 },
 "nbformat": 4,
 "nbformat_minor": 2
}
