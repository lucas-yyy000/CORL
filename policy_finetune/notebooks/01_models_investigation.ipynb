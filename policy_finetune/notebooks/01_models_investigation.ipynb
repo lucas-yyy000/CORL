{
 "cells": [
  {
   "cell_type": "code",
   "execution_count": 1,
   "metadata": {},
   "outputs": [
    {
     "name": "stderr",
     "output_type": "stream",
     "text": [
      "Warning: Flow failed to import. Set the environment variable D4RL_SUPPRESS_IMPORT_ERROR=1 to suppress this message.\n",
      "No module named 'flow'\n",
      "Warning: CARLA failed to import. Set the environment variable D4RL_SUPPRESS_IMPORT_ERROR=1 to suppress this message.\n",
      "No module named 'carla'\n",
      "pybullet build time: Nov 28 2023 23:45:17\n"
     ]
    }
   ],
   "source": [
    "import copy\n",
    "import os\n",
    "import random\n",
    "import uuid\n",
    "from dataclasses import asdict, dataclass\n",
    "from pathlib import Path\n",
    "from typing import Any, Callable, Dict, List, Optional, Tuple, Union\n",
    "\n",
    "import d4rl\n",
    "import gymnasium as gym\n",
    "import numpy as np\n",
    "import pyrallis\n",
    "import torch\n",
    "import torch.nn as nn\n",
    "import torch.nn.functional as F\n",
    "import wandb\n",
    "from torch.distributions import Normal\n",
    "from torch.optim.lr_scheduler import CosineAnnealingLR\n",
    "\n",
    "import pickle\n",
    "from tensordict import MemoryMappedTensor, TensorDict\n",
    "import sys\n",
    "sys.path.append(\"../scripts\")\n",
    "from actor_utils import *"
   ]
  },
  {
   "cell_type": "code",
   "execution_count": 2,
   "metadata": {},
   "outputs": [],
   "source": [
    "img_size = 100\n",
    "time_max = 100\n",
    "observation_img_size = [1, img_size, img_size]"
   ]
  },
  {
   "cell_type": "code",
   "execution_count": 3,
   "metadata": {},
   "outputs": [],
   "source": [
    "observation_space= gym.spaces.Dict({\"heat_map\": gym.spaces.Box(0, 255, observation_img_size), \n",
    "                        \"goal_direction\": gym.spaces.Box(-250, 250, shape=(2,)),\n",
    "                        'time_spent': gym.spaces.Discrete(time_max + 1)})\n",
    "action_dim = 1\n",
    "feature_extractor = FeatureExtractor(observation_space)"
   ]
  },
  {
   "cell_type": "code",
   "execution_count": 4,
   "metadata": {},
   "outputs": [
    {
     "data": {
      "text/plain": [
       "FeatureExtractor(\n",
       "  (extractors): ModuleDict(\n",
       "    (goal_direction): Flatten(start_dim=1, end_dim=-1)\n",
       "    (heat_map): NatureCNN(\n",
       "      (cnn): Sequential(\n",
       "        (0): Conv2d(1, 32, kernel_size=(8, 8), stride=(4, 4))\n",
       "        (1): ReLU()\n",
       "        (2): Conv2d(32, 64, kernel_size=(4, 4), stride=(2, 2))\n",
       "        (3): ReLU()\n",
       "        (4): Conv2d(64, 64, kernel_size=(3, 3), stride=(1, 1))\n",
       "        (5): ReLU()\n",
       "        (6): Flatten(start_dim=1, end_dim=-1)\n",
       "      )\n",
       "      (linear): Sequential(\n",
       "        (0): Linear(in_features=5184, out_features=256, bias=True)\n",
       "        (1): ReLU()\n",
       "      )\n",
       "    )\n",
       "    (time_spent): Flatten(start_dim=1, end_dim=-1)\n",
       "  )\n",
       ")"
      ]
     },
     "execution_count": 4,
     "metadata": {},
     "output_type": "execute_result"
    }
   ],
   "source": [
    "feature_extractor"
   ]
  }
 ],
 "metadata": {
  "kernelspec": {
   "display_name": "corl_env",
   "language": "python",
   "name": "python3"
  },
  "language_info": {
   "codemirror_mode": {
    "name": "ipython",
    "version": 3
   },
   "file_extension": ".py",
   "mimetype": "text/x-python",
   "name": "python",
   "nbconvert_exporter": "python",
   "pygments_lexer": "ipython3",
   "version": "3.10.12"
  }
 },
 "nbformat": 4,
 "nbformat_minor": 2
}
